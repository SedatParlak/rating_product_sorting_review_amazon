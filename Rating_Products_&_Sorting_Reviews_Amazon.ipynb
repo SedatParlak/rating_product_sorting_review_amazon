{
 "cells": [
  {
   "cell_type": "markdown",
   "id": "ee7f3948",
   "metadata": {},
   "source": [
    "# Rating Product & Sorting Reviews in Amazon"
   ]
  },
  {
   "cell_type": "markdown",
   "id": "7579abbf",
   "metadata": {},
   "source": [
    "**Business Problem: One of the most important problems in e-commerce is the correct calculation of the points given to the products after the sale. The solution to this problem means providing greater customer satisfaction for the e-commerce site, product prominence for sellers and a seamless shopping experience for buyers. Another problem is the correct listing of the comments given to the products. Since misleading comments will directly affect the sale of the product, it will cause both financial and customer loss. In solving these 2 basic problems, e-commerce site and sellers will increase their sales, while customers will complete their purchasing journey without any problems.**"
   ]
  },
  {
   "cell_type": "markdown",
   "id": "e2bc428a",
   "metadata": {},
   "source": [
    "**Import Libraries**"
   ]
  },
  {
   "cell_type": "code",
   "execution_count": 214,
   "id": "fef0889d",
   "metadata": {},
   "outputs": [],
   "source": [
    "import math\n",
    "import scipy.stats as st\n",
    "import pandas as pd\n",
    "import numpy as np\n",
    "import matplotlib.pyplot as plt\n",
    "import seaborn as sns\n",
    "import datetime as dt\n",
    "\n",
    "pd.set_option('display.max_rows', 500)\n",
    "pd.set_option('display.float_format', lambda x: '%.4f' % x)"
   ]
  },
  {
   "cell_type": "markdown",
   "id": "c725a426",
   "metadata": {},
   "source": [
    "**Read file**"
   ]
  },
  {
   "cell_type": "code",
   "execution_count": 215,
   "id": "1504b529",
   "metadata": {},
   "outputs": [],
   "source": [
    "df = pd.read_csv('amazon_review.csv')"
   ]
  },
  {
   "cell_type": "markdown",
   "id": "7fefdf85",
   "metadata": {},
   "source": [
    "## Exploratory Data Analysis (EDA)"
   ]
  },
  {
   "cell_type": "markdown",
   "id": "8dbec11e",
   "metadata": {},
   "source": [
    "**First 5 data**"
   ]
  },
  {
   "cell_type": "code",
   "execution_count": 216,
   "id": "d8f828ee",
   "metadata": {},
   "outputs": [
    {
     "data": {
      "text/html": [
       "<div>\n",
       "<style scoped>\n",
       "    .dataframe tbody tr th:only-of-type {\n",
       "        vertical-align: middle;\n",
       "    }\n",
       "\n",
       "    .dataframe tbody tr th {\n",
       "        vertical-align: top;\n",
       "    }\n",
       "\n",
       "    .dataframe thead th {\n",
       "        text-align: right;\n",
       "    }\n",
       "</style>\n",
       "<table border=\"1\" class=\"dataframe\">\n",
       "  <thead>\n",
       "    <tr style=\"text-align: right;\">\n",
       "      <th></th>\n",
       "      <th>reviewerID</th>\n",
       "      <th>asin</th>\n",
       "      <th>reviewerName</th>\n",
       "      <th>helpful</th>\n",
       "      <th>reviewText</th>\n",
       "      <th>overall</th>\n",
       "      <th>summary</th>\n",
       "      <th>unixReviewTime</th>\n",
       "      <th>reviewTime</th>\n",
       "      <th>day_diff</th>\n",
       "      <th>helpful_yes</th>\n",
       "      <th>total_vote</th>\n",
       "    </tr>\n",
       "  </thead>\n",
       "  <tbody>\n",
       "    <tr>\n",
       "      <th>0</th>\n",
       "      <td>A3SBTW3WS4IQSN</td>\n",
       "      <td>B007WTAJTO</td>\n",
       "      <td>NaN</td>\n",
       "      <td>[0, 0]</td>\n",
       "      <td>No issues.</td>\n",
       "      <td>4.0000</td>\n",
       "      <td>Four Stars</td>\n",
       "      <td>1406073600</td>\n",
       "      <td>2014-07-23</td>\n",
       "      <td>138</td>\n",
       "      <td>0</td>\n",
       "      <td>0</td>\n",
       "    </tr>\n",
       "    <tr>\n",
       "      <th>1</th>\n",
       "      <td>A18K1ODH1I2MVB</td>\n",
       "      <td>B007WTAJTO</td>\n",
       "      <td>0mie</td>\n",
       "      <td>[0, 0]</td>\n",
       "      <td>Purchased this for my device, it worked as adv...</td>\n",
       "      <td>5.0000</td>\n",
       "      <td>MOAR SPACE!!!</td>\n",
       "      <td>1382659200</td>\n",
       "      <td>2013-10-25</td>\n",
       "      <td>409</td>\n",
       "      <td>0</td>\n",
       "      <td>0</td>\n",
       "    </tr>\n",
       "    <tr>\n",
       "      <th>2</th>\n",
       "      <td>A2FII3I2MBMUIA</td>\n",
       "      <td>B007WTAJTO</td>\n",
       "      <td>1K3</td>\n",
       "      <td>[0, 0]</td>\n",
       "      <td>it works as expected. I should have sprung for...</td>\n",
       "      <td>4.0000</td>\n",
       "      <td>nothing to really say....</td>\n",
       "      <td>1356220800</td>\n",
       "      <td>2012-12-23</td>\n",
       "      <td>715</td>\n",
       "      <td>0</td>\n",
       "      <td>0</td>\n",
       "    </tr>\n",
       "    <tr>\n",
       "      <th>3</th>\n",
       "      <td>A3H99DFEG68SR</td>\n",
       "      <td>B007WTAJTO</td>\n",
       "      <td>1m2</td>\n",
       "      <td>[0, 0]</td>\n",
       "      <td>This think has worked out great.Had a diff. br...</td>\n",
       "      <td>5.0000</td>\n",
       "      <td>Great buy at this price!!!  *** UPDATE</td>\n",
       "      <td>1384992000</td>\n",
       "      <td>2013-11-21</td>\n",
       "      <td>382</td>\n",
       "      <td>0</td>\n",
       "      <td>0</td>\n",
       "    </tr>\n",
       "    <tr>\n",
       "      <th>4</th>\n",
       "      <td>A375ZM4U047O79</td>\n",
       "      <td>B007WTAJTO</td>\n",
       "      <td>2&amp;amp;1/2Men</td>\n",
       "      <td>[0, 0]</td>\n",
       "      <td>Bought it with Retail Packaging, arrived legit...</td>\n",
       "      <td>5.0000</td>\n",
       "      <td>best deal around</td>\n",
       "      <td>1373673600</td>\n",
       "      <td>2013-07-13</td>\n",
       "      <td>513</td>\n",
       "      <td>0</td>\n",
       "      <td>0</td>\n",
       "    </tr>\n",
       "  </tbody>\n",
       "</table>\n",
       "</div>"
      ],
      "text/plain": [
       "       reviewerID        asin  reviewerName helpful  \\\n",
       "0  A3SBTW3WS4IQSN  B007WTAJTO           NaN  [0, 0]   \n",
       "1  A18K1ODH1I2MVB  B007WTAJTO          0mie  [0, 0]   \n",
       "2  A2FII3I2MBMUIA  B007WTAJTO           1K3  [0, 0]   \n",
       "3   A3H99DFEG68SR  B007WTAJTO           1m2  [0, 0]   \n",
       "4  A375ZM4U047O79  B007WTAJTO  2&amp;1/2Men  [0, 0]   \n",
       "\n",
       "                                          reviewText  overall  \\\n",
       "0                                         No issues.   4.0000   \n",
       "1  Purchased this for my device, it worked as adv...   5.0000   \n",
       "2  it works as expected. I should have sprung for...   4.0000   \n",
       "3  This think has worked out great.Had a diff. br...   5.0000   \n",
       "4  Bought it with Retail Packaging, arrived legit...   5.0000   \n",
       "\n",
       "                                  summary  unixReviewTime  reviewTime  \\\n",
       "0                              Four Stars      1406073600  2014-07-23   \n",
       "1                           MOAR SPACE!!!      1382659200  2013-10-25   \n",
       "2               nothing to really say....      1356220800  2012-12-23   \n",
       "3  Great buy at this price!!!  *** UPDATE      1384992000  2013-11-21   \n",
       "4                        best deal around      1373673600  2013-07-13   \n",
       "\n",
       "   day_diff  helpful_yes  total_vote  \n",
       "0       138            0           0  \n",
       "1       409            0           0  \n",
       "2       715            0           0  \n",
       "3       382            0           0  \n",
       "4       513            0           0  "
      ]
     },
     "execution_count": 216,
     "metadata": {},
     "output_type": "execute_result"
    }
   ],
   "source": [
    "df.head()"
   ]
  },
  {
   "cell_type": "markdown",
   "id": "484f7fce",
   "metadata": {},
   "source": [
    "**Info**"
   ]
  },
  {
   "cell_type": "code",
   "execution_count": 217,
   "id": "c52ff5cc",
   "metadata": {},
   "outputs": [
    {
     "name": "stdout",
     "output_type": "stream",
     "text": [
      "<class 'pandas.core.frame.DataFrame'>\n",
      "RangeIndex: 4915 entries, 0 to 4914\n",
      "Data columns (total 12 columns):\n",
      " #   Column          Non-Null Count  Dtype  \n",
      "---  ------          --------------  -----  \n",
      " 0   reviewerID      4915 non-null   object \n",
      " 1   asin            4915 non-null   object \n",
      " 2   reviewerName    4914 non-null   object \n",
      " 3   helpful         4915 non-null   object \n",
      " 4   reviewText      4914 non-null   object \n",
      " 5   overall         4915 non-null   float64\n",
      " 6   summary         4915 non-null   object \n",
      " 7   unixReviewTime  4915 non-null   int64  \n",
      " 8   reviewTime      4915 non-null   object \n",
      " 9   day_diff        4915 non-null   int64  \n",
      " 10  helpful_yes     4915 non-null   int64  \n",
      " 11  total_vote      4915 non-null   int64  \n",
      "dtypes: float64(1), int64(4), object(7)\n",
      "memory usage: 460.9+ KB\n"
     ]
    }
   ],
   "source": [
    "df.info()"
   ]
  },
  {
   "cell_type": "markdown",
   "id": "fc9bc753",
   "metadata": {},
   "source": [
    "**Check unique values**"
   ]
  },
  {
   "cell_type": "code",
   "execution_count": 218,
   "id": "777da2c1",
   "metadata": {},
   "outputs": [
    {
     "data": {
      "text/plain": [
       "reviewerID        4915\n",
       "asin                 1\n",
       "reviewerName      4594\n",
       "helpful             42\n",
       "reviewText        4912\n",
       "overall              5\n",
       "summary           3885\n",
       "unixReviewTime     690\n",
       "reviewTime         690\n",
       "day_diff           690\n",
       "helpful_yes         23\n",
       "total_vote          26\n",
       "dtype: int64"
      ]
     },
     "execution_count": 218,
     "metadata": {},
     "output_type": "execute_result"
    }
   ],
   "source": [
    "df.nunique()"
   ]
  },
  {
   "cell_type": "markdown",
   "id": "9ba04207",
   "metadata": {},
   "source": [
    "**Describe the numerical values**"
   ]
  },
  {
   "cell_type": "code",
   "execution_count": 219,
   "id": "23a22e7f",
   "metadata": {},
   "outputs": [
    {
     "data": {
      "text/html": [
       "<div>\n",
       "<style scoped>\n",
       "    .dataframe tbody tr th:only-of-type {\n",
       "        vertical-align: middle;\n",
       "    }\n",
       "\n",
       "    .dataframe tbody tr th {\n",
       "        vertical-align: top;\n",
       "    }\n",
       "\n",
       "    .dataframe thead th {\n",
       "        text-align: right;\n",
       "    }\n",
       "</style>\n",
       "<table border=\"1\" class=\"dataframe\">\n",
       "  <thead>\n",
       "    <tr style=\"text-align: right;\">\n",
       "      <th></th>\n",
       "      <th>count</th>\n",
       "      <th>mean</th>\n",
       "      <th>std</th>\n",
       "      <th>min</th>\n",
       "      <th>25%</th>\n",
       "      <th>50%</th>\n",
       "      <th>75%</th>\n",
       "      <th>max</th>\n",
       "    </tr>\n",
       "  </thead>\n",
       "  <tbody>\n",
       "    <tr>\n",
       "      <th>overall</th>\n",
       "      <td>4915.0000</td>\n",
       "      <td>4.5876</td>\n",
       "      <td>0.9968</td>\n",
       "      <td>1.0000</td>\n",
       "      <td>5.0000</td>\n",
       "      <td>5.0000</td>\n",
       "      <td>5.0000</td>\n",
       "      <td>5.0000</td>\n",
       "    </tr>\n",
       "    <tr>\n",
       "      <th>unixReviewTime</th>\n",
       "      <td>4915.0000</td>\n",
       "      <td>1379465001.6684</td>\n",
       "      <td>15818574.3228</td>\n",
       "      <td>1339200000.0000</td>\n",
       "      <td>1365897600.0000</td>\n",
       "      <td>1381276800.0000</td>\n",
       "      <td>1392163200.0000</td>\n",
       "      <td>1406073600.0000</td>\n",
       "    </tr>\n",
       "    <tr>\n",
       "      <th>day_diff</th>\n",
       "      <td>4915.0000</td>\n",
       "      <td>437.3670</td>\n",
       "      <td>209.4399</td>\n",
       "      <td>1.0000</td>\n",
       "      <td>281.0000</td>\n",
       "      <td>431.0000</td>\n",
       "      <td>601.0000</td>\n",
       "      <td>1064.0000</td>\n",
       "    </tr>\n",
       "    <tr>\n",
       "      <th>helpful_yes</th>\n",
       "      <td>4915.0000</td>\n",
       "      <td>1.3111</td>\n",
       "      <td>41.6192</td>\n",
       "      <td>0.0000</td>\n",
       "      <td>0.0000</td>\n",
       "      <td>0.0000</td>\n",
       "      <td>0.0000</td>\n",
       "      <td>1952.0000</td>\n",
       "    </tr>\n",
       "    <tr>\n",
       "      <th>total_vote</th>\n",
       "      <td>4915.0000</td>\n",
       "      <td>1.5215</td>\n",
       "      <td>44.1231</td>\n",
       "      <td>0.0000</td>\n",
       "      <td>0.0000</td>\n",
       "      <td>0.0000</td>\n",
       "      <td>0.0000</td>\n",
       "      <td>2020.0000</td>\n",
       "    </tr>\n",
       "  </tbody>\n",
       "</table>\n",
       "</div>"
      ],
      "text/plain": [
       "                   count            mean           std             min  \\\n",
       "overall        4915.0000          4.5876        0.9968          1.0000   \n",
       "unixReviewTime 4915.0000 1379465001.6684 15818574.3228 1339200000.0000   \n",
       "day_diff       4915.0000        437.3670      209.4399          1.0000   \n",
       "helpful_yes    4915.0000          1.3111       41.6192          0.0000   \n",
       "total_vote     4915.0000          1.5215       44.1231          0.0000   \n",
       "\n",
       "                           25%             50%             75%             max  \n",
       "overall                 5.0000          5.0000          5.0000          5.0000  \n",
       "unixReviewTime 1365897600.0000 1381276800.0000 1392163200.0000 1406073600.0000  \n",
       "day_diff              281.0000        431.0000        601.0000       1064.0000  \n",
       "helpful_yes             0.0000          0.0000          0.0000       1952.0000  \n",
       "total_vote              0.0000          0.0000          0.0000       2020.0000  "
      ]
     },
     "execution_count": 219,
     "metadata": {},
     "output_type": "execute_result"
    }
   ],
   "source": [
    "df.describe().T"
   ]
  },
  {
   "cell_type": "markdown",
   "id": "8780a391",
   "metadata": {},
   "source": [
    "**Check rating frequncy**"
   ]
  },
  {
   "cell_type": "code",
   "execution_count": 220,
   "id": "27efa7ae",
   "metadata": {},
   "outputs": [
    {
     "name": "stdout",
     "output_type": "stream",
     "text": [
      "        overall   Ratio\n",
      "5.0000     3922 79.8000\n",
      "4.0000      527 10.7200\n",
      "1.0000      244  4.9600\n",
      "3.0000      142  2.8900\n",
      "2.0000       80  1.6300\n"
     ]
    },
    {
     "data": {
      "image/png": "[encoded data removed]",
      "text/plain": [
       "<Figure size 720x360 with 1 Axes>"
      ]
     },
     "metadata": {
      "needs_background": "light"
     },
     "output_type": "display_data"
    },
    {
     "name": "stdout",
     "output_type": "stream",
     "text": [
      "###################################################################################\n",
      "\n"
     ]
    }
   ],
   "source": [
    "def cat_summary(dataframe, col_name, plot=False):\n",
    "    print(pd.DataFrame({col_name: dataframe[col_name].value_counts(),\n",
    "                       'Ratio': round(100*(dataframe[col_name].value_counts()) / len(dataframe), 2)}))\n",
    "    \n",
    "    if plot:\n",
    "        sns.countplot(x=col_name, data=dataframe)\n",
    "        plt.show()\n",
    "        \n",
    "    print('###################################################################################\\n')\n",
    "\n",
    "plt.figure(figsize=(10, 5))\n",
    "cat_summary(df, 'overall', plot=True)"
   ]
  },
  {
   "cell_type": "markdown",
   "id": "b34b2c09",
   "metadata": {},
   "source": [
    "**Max and min date**"
   ]
  },
  {
   "cell_type": "code",
   "execution_count": 221,
   "id": "38010cfb",
   "metadata": {},
   "outputs": [
    {
     "data": {
      "text/plain": [
       "min    2012-01-09\n",
       "max    2014-12-07\n",
       "Name: reviewTime, dtype: object"
      ]
     },
     "execution_count": 221,
     "metadata": {},
     "output_type": "execute_result"
    }
   ],
   "source": [
    "df['reviewTime'].agg({'min', 'max'})"
   ]
  },
  {
   "cell_type": "markdown",
   "id": "46a29ecb",
   "metadata": {},
   "source": [
    "## Task 1: Rating the product"
   ]
  },
  {
   "cell_type": "markdown",
   "id": "5a02f7f5",
   "metadata": {},
   "source": [
    "### Step 1: Average rating (overall)"
   ]
  },
  {
   "cell_type": "code",
   "execution_count": 222,
   "id": "2dbad94d",
   "metadata": {},
   "outputs": [
    {
     "data": {
      "text/plain": [
       "4.587589013224822"
      ]
     },
     "execution_count": 222,
     "metadata": {},
     "output_type": "execute_result"
    }
   ],
   "source": [
    "df['overall'].mean()"
   ]
  },
  {
   "cell_type": "markdown",
   "id": "3db240de",
   "metadata": {},
   "source": [
    "### Step 2: Time-based weighted average"
   ]
  },
  {
   "cell_type": "markdown",
   "id": "a824f553",
   "metadata": {},
   "source": [
    "**Convert reviewtime to datetime object**"
   ]
  },
  {
   "cell_type": "code",
   "execution_count": 223,
   "id": "8df1733a",
   "metadata": {},
   "outputs": [],
   "source": [
    "df['reviewTime'] = pd.to_datetime(df['reviewTime'])"
   ]
  },
  {
   "cell_type": "code",
   "execution_count": 224,
   "id": "752fe16e",
   "metadata": {},
   "outputs": [
    {
     "data": {
      "text/plain": [
       "reviewerID                object\n",
       "asin                      object\n",
       "reviewerName              object\n",
       "helpful                   object\n",
       "reviewText                object\n",
       "overall                  float64\n",
       "summary                   object\n",
       "unixReviewTime             int64\n",
       "reviewTime        datetime64[ns]\n",
       "day_diff                   int64\n",
       "helpful_yes                int64\n",
       "total_vote                 int64\n",
       "dtype: object"
      ]
     },
     "execution_count": 224,
     "metadata": {},
     "output_type": "execute_result"
    }
   ],
   "source": [
    "df.dtypes"
   ]
  },
  {
   "cell_type": "markdown",
   "id": "0fc9ea65",
   "metadata": {},
   "source": [
    "**Calculate current date**"
   ]
  },
  {
   "cell_type": "code",
   "execution_count": 225,
   "id": "f40ab38f",
   "metadata": {},
   "outputs": [
    {
     "data": {
      "text/plain": [
       "Timestamp('2014-12-07 00:00:00')"
      ]
     },
     "execution_count": 225,
     "metadata": {},
     "output_type": "execute_result"
    }
   ],
   "source": [
    "current_date = df['reviewTime'].max()\n",
    "current_date"
   ]
  },
  {
   "cell_type": "markdown",
   "id": "a68ad60d",
   "metadata": {},
   "source": [
    "**Create 'days' column**"
   ]
  },
  {
   "cell_type": "code",
   "execution_count": 226,
   "id": "54d7953b",
   "metadata": {},
   "outputs": [],
   "source": [
    "df['days'] = (current_date - df['reviewTime']).dt.days"
   ]
  },
  {
   "cell_type": "code",
   "execution_count": 227,
   "id": "2f4afa18",
   "metadata": {},
   "outputs": [
    {
     "data": {
      "text/html": [
       "<div>\n",
       "<style scoped>\n",
       "    .dataframe tbody tr th:only-of-type {\n",
       "        vertical-align: middle;\n",
       "    }\n",
       "\n",
       "    .dataframe tbody tr th {\n",
       "        vertical-align: top;\n",
       "    }\n",
       "\n",
       "    .dataframe thead th {\n",
       "        text-align: right;\n",
       "    }\n",
       "</style>\n",
       "<table border=\"1\" class=\"dataframe\">\n",
       "  <thead>\n",
       "    <tr style=\"text-align: right;\">\n",
       "      <th></th>\n",
       "      <th>reviewerID</th>\n",
       "      <th>asin</th>\n",
       "      <th>reviewerName</th>\n",
       "      <th>helpful</th>\n",
       "      <th>reviewText</th>\n",
       "      <th>overall</th>\n",
       "      <th>summary</th>\n",
       "      <th>unixReviewTime</th>\n",
       "      <th>reviewTime</th>\n",
       "      <th>day_diff</th>\n",
       "      <th>helpful_yes</th>\n",
       "      <th>total_vote</th>\n",
       "      <th>days</th>\n",
       "    </tr>\n",
       "  </thead>\n",
       "  <tbody>\n",
       "    <tr>\n",
       "      <th>0</th>\n",
       "      <td>A3SBTW3WS4IQSN</td>\n",
       "      <td>B007WTAJTO</td>\n",
       "      <td>NaN</td>\n",
       "      <td>[0, 0]</td>\n",
       "      <td>No issues.</td>\n",
       "      <td>4.0000</td>\n",
       "      <td>Four Stars</td>\n",
       "      <td>1406073600</td>\n",
       "      <td>2014-07-23</td>\n",
       "      <td>138</td>\n",
       "      <td>0</td>\n",
       "      <td>0</td>\n",
       "      <td>137</td>\n",
       "    </tr>\n",
       "    <tr>\n",
       "      <th>1</th>\n",
       "      <td>A18K1ODH1I2MVB</td>\n",
       "      <td>B007WTAJTO</td>\n",
       "      <td>0mie</td>\n",
       "      <td>[0, 0]</td>\n",
       "      <td>Purchased this for my device, it worked as adv...</td>\n",
       "      <td>5.0000</td>\n",
       "      <td>MOAR SPACE!!!</td>\n",
       "      <td>1382659200</td>\n",
       "      <td>2013-10-25</td>\n",
       "      <td>409</td>\n",
       "      <td>0</td>\n",
       "      <td>0</td>\n",
       "      <td>408</td>\n",
       "    </tr>\n",
       "    <tr>\n",
       "      <th>2</th>\n",
       "      <td>A2FII3I2MBMUIA</td>\n",
       "      <td>B007WTAJTO</td>\n",
       "      <td>1K3</td>\n",
       "      <td>[0, 0]</td>\n",
       "      <td>it works as expected. I should have sprung for...</td>\n",
       "      <td>4.0000</td>\n",
       "      <td>nothing to really say....</td>\n",
       "      <td>1356220800</td>\n",
       "      <td>2012-12-23</td>\n",
       "      <td>715</td>\n",
       "      <td>0</td>\n",
       "      <td>0</td>\n",
       "      <td>714</td>\n",
       "    </tr>\n",
       "    <tr>\n",
       "      <th>3</th>\n",
       "      <td>A3H99DFEG68SR</td>\n",
       "      <td>B007WTAJTO</td>\n",
       "      <td>1m2</td>\n",
       "      <td>[0, 0]</td>\n",
       "      <td>This think has worked out great.Had a diff. br...</td>\n",
       "      <td>5.0000</td>\n",
       "      <td>Great buy at this price!!!  *** UPDATE</td>\n",
       "      <td>1384992000</td>\n",
       "      <td>2013-11-21</td>\n",
       "      <td>382</td>\n",
       "      <td>0</td>\n",
       "      <td>0</td>\n",
       "      <td>381</td>\n",
       "    </tr>\n",
       "    <tr>\n",
       "      <th>4</th>\n",
       "      <td>A375ZM4U047O79</td>\n",
       "      <td>B007WTAJTO</td>\n",
       "      <td>2&amp;amp;1/2Men</td>\n",
       "      <td>[0, 0]</td>\n",
       "      <td>Bought it with Retail Packaging, arrived legit...</td>\n",
       "      <td>5.0000</td>\n",
       "      <td>best deal around</td>\n",
       "      <td>1373673600</td>\n",
       "      <td>2013-07-13</td>\n",
       "      <td>513</td>\n",
       "      <td>0</td>\n",
       "      <td>0</td>\n",
       "      <td>512</td>\n",
       "    </tr>\n",
       "  </tbody>\n",
       "</table>\n",
       "</div>"
      ],
      "text/plain": [
       "       reviewerID        asin  reviewerName helpful  \\\n",
       "0  A3SBTW3WS4IQSN  B007WTAJTO           NaN  [0, 0]   \n",
       "1  A18K1ODH1I2MVB  B007WTAJTO          0mie  [0, 0]   \n",
       "2  A2FII3I2MBMUIA  B007WTAJTO           1K3  [0, 0]   \n",
       "3   A3H99DFEG68SR  B007WTAJTO           1m2  [0, 0]   \n",
       "4  A375ZM4U047O79  B007WTAJTO  2&amp;1/2Men  [0, 0]   \n",
       "\n",
       "                                          reviewText  overall  \\\n",
       "0                                         No issues.   4.0000   \n",
       "1  Purchased this for my device, it worked as adv...   5.0000   \n",
       "2  it works as expected. I should have sprung for...   4.0000   \n",
       "3  This think has worked out great.Had a diff. br...   5.0000   \n",
       "4  Bought it with Retail Packaging, arrived legit...   5.0000   \n",
       "\n",
       "                                  summary  unixReviewTime reviewTime  \\\n",
       "0                              Four Stars      1406073600 2014-07-23   \n",
       "1                           MOAR SPACE!!!      1382659200 2013-10-25   \n",
       "2               nothing to really say....      1356220800 2012-12-23   \n",
       "3  Great buy at this price!!!  *** UPDATE      1384992000 2013-11-21   \n",
       "4                        best deal around      1373673600 2013-07-13   \n",
       "\n",
       "   day_diff  helpful_yes  total_vote  days  \n",
       "0       138            0           0   137  \n",
       "1       409            0           0   408  \n",
       "2       715            0           0   714  \n",
       "3       382            0           0   381  \n",
       "4       513            0           0   512  "
      ]
     },
     "execution_count": 227,
     "metadata": {},
     "output_type": "execute_result"
    }
   ],
   "source": [
    "df.head()"
   ]
  },
  {
   "cell_type": "markdown",
   "id": "11b8297b",
   "metadata": {},
   "source": [
    "**Calculate the quantiles**"
   ]
  },
  {
   "cell_type": "code",
   "execution_count": 228,
   "id": "68124791",
   "metadata": {},
   "outputs": [
    {
     "data": {
      "text/plain": [
       "0.0500    97.0000\n",
       "0.2500   280.0000\n",
       "0.7000   561.8000\n",
       "Name: days, dtype: float64"
      ]
     },
     "execution_count": 228,
     "metadata": {},
     "output_type": "execute_result"
    }
   ],
   "source": [
    "quantiles = df['days'].quantile(q=[0.05, 0.25, 0.7])\n",
    "quantiles"
   ]
  },
  {
   "cell_type": "code",
   "execution_count": 229,
   "id": "acb9a2fe",
   "metadata": {},
   "outputs": [],
   "source": [
    "q1 = quantiles.iloc[0]\n",
    "q2 = quantiles.iloc[1]\n",
    "q3 = quantiles.iloc[2]"
   ]
  },
  {
   "cell_type": "markdown",
   "id": "4586b97c",
   "metadata": {},
   "source": [
    "**Less than q1 (97 days)**"
   ]
  },
  {
   "cell_type": "code",
   "execution_count": 230,
   "id": "3a7fc86c",
   "metadata": {},
   "outputs": [
    {
     "data": {
      "text/plain": [
       "mean      4.7824\n",
       "count   193.0000\n",
       "Name: overall, dtype: float64"
      ]
     },
     "execution_count": 230,
     "metadata": {},
     "output_type": "execute_result"
    }
   ],
   "source": [
    "df[df['days'] <= 90]['overall'].agg(['mean', 'count'])"
   ]
  },
  {
   "cell_type": "markdown",
   "id": "9fef81b6",
   "metadata": {},
   "source": [
    "**Between q1 (97 days) and q2 (280 days)**"
   ]
  },
  {
   "cell_type": "code",
   "execution_count": 231,
   "id": "664de869",
   "metadata": {},
   "outputs": [
    {
     "data": {
      "text/plain": [
       "mean      4.6814\n",
       "count   973.0000\n",
       "Name: overall, dtype: float64"
      ]
     },
     "execution_count": 231,
     "metadata": {},
     "output_type": "execute_result"
    }
   ],
   "source": [
    "df[(df['days'] > q1) & (df['days'] <= q2)]['overall'].agg(['mean', 'count'])"
   ]
  },
  {
   "cell_type": "markdown",
   "id": "380f54ff",
   "metadata": {},
   "source": [
    "**Between q2 (280 days) and q2 (561 days)**"
   ]
  },
  {
   "cell_type": "code",
   "execution_count": 232,
   "id": "4f0b0aeb",
   "metadata": {},
   "outputs": [
    {
     "data": {
      "text/plain": [
       "mean       4.6093\n",
       "count   2204.0000\n",
       "Name: overall, dtype: float64"
      ]
     },
     "execution_count": 232,
     "metadata": {},
     "output_type": "execute_result"
    }
   ],
   "source": [
    "df[(df['days'] > q2) & (df['days'] <= q3)]['overall'].agg(['mean', 'count'])"
   ]
  },
  {
   "cell_type": "markdown",
   "id": "38df8e25",
   "metadata": {},
   "source": [
    "**Greater than q3 (561 days)**"
   ]
  },
  {
   "cell_type": "code",
   "execution_count": 233,
   "id": "03e2155f",
   "metadata": {},
   "outputs": [
    {
     "data": {
      "text/plain": [
       "mean       4.4644\n",
       "count   1475.0000\n",
       "Name: overall, dtype: float64"
      ]
     },
     "execution_count": 233,
     "metadata": {},
     "output_type": "execute_result"
    }
   ],
   "source": [
    "df[df['days'] > q3]['overall'].agg(['mean', 'count'])"
   ]
  },
  {
   "cell_type": "markdown",
   "id": "20bea30f",
   "metadata": {},
   "source": [
    "**Calculate the time-based weighted average**"
   ]
  },
  {
   "cell_type": "code",
   "execution_count": 234,
   "id": "6c14868a",
   "metadata": {},
   "outputs": [],
   "source": [
    "def time_based_weighted_average(dataframe, w1=28, w2=26, w3=24, w4=22): \n",
    "    \n",
    "    rating = dataframe[dataframe['days'] <= q1]['overall'].mean() * w1 + \\\n",
    "    dataframe[(dataframe['days'] > q1) & (dataframe['days'] <= q2)]['overall'].mean() * w2 + \\\n",
    "    dataframe[(dataframe['days'] > q2) & (dataframe['days'] <= q3)]['overall'].mean() * w3 + \\\n",
    "    dataframe[dataframe['days'] > q3]['overall'].mean() * w4 \n",
    "    \n",
    "    return rating / 100"
   ]
  },
  {
   "cell_type": "code",
   "execution_count": 235,
   "id": "9cf633fd",
   "metadata": {},
   "outputs": [
    {
     "data": {
      "text/plain": [
       "4.635309938149424"
      ]
     },
     "execution_count": 235,
     "metadata": {},
     "output_type": "execute_result"
    }
   ],
   "source": [
    "time_based_weighted_average(df, w1=28, w2=26, w3=24, w4=22)"
   ]
  },
  {
   "cell_type": "markdown",
   "id": "0d56a0f3",
   "metadata": {},
   "source": [
    "## Task 2: Sorting top 20 reviews"
   ]
  },
  {
   "cell_type": "markdown",
   "id": "ddc7002a",
   "metadata": {},
   "source": [
    "### Step 1: Create a 'helpful_no' variables"
   ]
  },
  {
   "cell_type": "code",
   "execution_count": 236,
   "id": "9956f99e",
   "metadata": {},
   "outputs": [],
   "source": [
    "df['helpful_no'] = df['total_vote'] - df['helpful_yes']"
   ]
  },
  {
   "cell_type": "code",
   "execution_count": 237,
   "id": "bcb8d136",
   "metadata": {},
   "outputs": [
    {
     "data": {
      "text/plain": [
       "0      4674\n",
       "1       175\n",
       "2        43\n",
       "3         7\n",
       "27        2\n",
       "4         2\n",
       "6         2\n",
       "73        1\n",
       "8         1\n",
       "10        1\n",
       "68        1\n",
       "110       1\n",
       "183       1\n",
       "77        1\n",
       "126       1\n",
       "14        1\n",
       "9         1\n",
       "Name: helpful_no, dtype: int64"
      ]
     },
     "execution_count": 237,
     "metadata": {},
     "output_type": "execute_result"
    }
   ],
   "source": [
    "df['helpful_no'].value_counts()"
   ]
  },
  {
   "cell_type": "markdown",
   "id": "c6b24962",
   "metadata": {},
   "source": [
    "### Step 2: Calculate the score_pos_neg_diff, score_average_rating, wilson_lower_bound"
   ]
  },
  {
   "cell_type": "markdown",
   "id": "7f635c69",
   "metadata": {},
   "source": [
    "**Define a function called score_pos_neg_diff that calculate the difference between positive and negative reviews**"
   ]
  },
  {
   "cell_type": "code",
   "execution_count": 238,
   "id": "3f907469",
   "metadata": {},
   "outputs": [],
   "source": [
    "def score_pos_neg_diff(pos, neg):\n",
    "    return pos - neg"
   ]
  },
  {
   "cell_type": "code",
   "execution_count": 239,
   "id": "7907dec9",
   "metadata": {},
   "outputs": [],
   "source": [
    "df['score_pos_neg_diff'] = df.apply(lambda x: score_pos_neg_diff(x['helpful_yes'], x['helpful_no']), axis=1)"
   ]
  },
  {
   "cell_type": "markdown",
   "id": "c11b6728",
   "metadata": {},
   "source": [
    "**Define a function called score_average_rating that calculate the positive percentage reviews**"
   ]
  },
  {
   "cell_type": "code",
   "execution_count": 240,
   "id": "b10dd590",
   "metadata": {},
   "outputs": [],
   "source": [
    "def score_average_rating(up, down):\n",
    "    if (up + down) == 0:\n",
    "        return 0\n",
    "    return up / (up + down)"
   ]
  },
  {
   "cell_type": "code",
   "execution_count": 241,
   "id": "e90526f1",
   "metadata": {},
   "outputs": [],
   "source": [
    "df['score_average_rating'] = df.apply(lambda x: score_average_rating(x['helpful_yes'], x['helpful_no']), axis=1)"
   ]
  },
  {
   "cell_type": "markdown",
   "id": "d6fa0f0f",
   "metadata": {},
   "source": [
    "**Wilson lower bound function**"
   ]
  },
  {
   "cell_type": "code",
   "execution_count": 242,
   "id": "897d0ba4",
   "metadata": {},
   "outputs": [],
   "source": [
    "def wilson_lower_bound(up, down, confidence=0.95):\n",
    "    \n",
    "    n = up + down\n",
    "    if n == 0:\n",
    "        return 0\n",
    "    z = st.norm.ppf(1 - (1 - confidence) / 2)\n",
    "    phat = 1.0 * up / n\n",
    "    score = (phat + z * z / (2 * n) - z * math.sqrt((phat * (1 - phat) + z * z / (4 * n)) / n)) / (1 + z * z / n)\n",
    "    \n",
    "    return score"
   ]
  },
  {
   "cell_type": "code",
   "execution_count": 243,
   "id": "2b9ac40c",
   "metadata": {},
   "outputs": [],
   "source": [
    "df['wilson_lower_bound'] = df.apply(lambda x: wilson_lower_bound(x['helpful_yes'], x['helpful_no']), axis=1)"
   ]
  },
  {
   "cell_type": "markdown",
   "id": "4d64b9bc",
   "metadata": {},
   "source": [
    "### Step 3: Sort dataframe"
   ]
  },
  {
   "cell_type": "markdown",
   "id": "5bc3c523",
   "metadata": {},
   "source": [
    "**Sort dataframe by score_pos_neg_diff**"
   ]
  },
  {
   "cell_type": "code",
   "execution_count": 244,
   "id": "4abdfbfa",
   "metadata": {},
   "outputs": [
    {
     "data": {
      "text/html": [
       "<div>\n",
       "<style scoped>\n",
       "    .dataframe tbody tr th:only-of-type {\n",
       "        vertical-align: middle;\n",
       "    }\n",
       "\n",
       "    .dataframe tbody tr th {\n",
       "        vertical-align: top;\n",
       "    }\n",
       "\n",
       "    .dataframe thead th {\n",
       "        text-align: right;\n",
       "    }\n",
       "</style>\n",
       "<table border=\"1\" class=\"dataframe\">\n",
       "  <thead>\n",
       "    <tr style=\"text-align: right;\">\n",
       "      <th></th>\n",
       "      <th>reviewerID</th>\n",
       "      <th>asin</th>\n",
       "      <th>reviewerName</th>\n",
       "      <th>helpful</th>\n",
       "      <th>reviewText</th>\n",
       "      <th>overall</th>\n",
       "      <th>summary</th>\n",
       "      <th>unixReviewTime</th>\n",
       "      <th>reviewTime</th>\n",
       "      <th>day_diff</th>\n",
       "      <th>helpful_yes</th>\n",
       "      <th>total_vote</th>\n",
       "      <th>days</th>\n",
       "      <th>helpful_no</th>\n",
       "      <th>score_pos_neg_diff</th>\n",
       "      <th>score_average_rating</th>\n",
       "      <th>wilson_lower_bound</th>\n",
       "    </tr>\n",
       "  </thead>\n",
       "  <tbody>\n",
       "    <tr>\n",
       "      <th>2031</th>\n",
       "      <td>A12B7ZMXFI6IXY</td>\n",
       "      <td>B007WTAJTO</td>\n",
       "      <td>Hyoun Kim \"Faluzure\"</td>\n",
       "      <td>[1952, 2020]</td>\n",
       "      <td>[[ UPDATE - 6/19/2014 ]]So my lovely wife boug...</td>\n",
       "      <td>5.0000</td>\n",
       "      <td>UPDATED - Great w/ Galaxy S4 &amp; Galaxy Tab 4 10...</td>\n",
       "      <td>1367366400</td>\n",
       "      <td>2013-01-05</td>\n",
       "      <td>702</td>\n",
       "      <td>1952</td>\n",
       "      <td>2020</td>\n",
       "      <td>701</td>\n",
       "      <td>68</td>\n",
       "      <td>1884</td>\n",
       "      <td>0.9663</td>\n",
       "      <td>0.9575</td>\n",
       "    </tr>\n",
       "    <tr>\n",
       "      <th>4212</th>\n",
       "      <td>AVBMZZAFEKO58</td>\n",
       "      <td>B007WTAJTO</td>\n",
       "      <td>SkincareCEO</td>\n",
       "      <td>[1568, 1694]</td>\n",
       "      <td>NOTE:  please read the last update (scroll to ...</td>\n",
       "      <td>1.0000</td>\n",
       "      <td>1 Star reviews - Micro SDXC card unmounts itse...</td>\n",
       "      <td>1375660800</td>\n",
       "      <td>2013-05-08</td>\n",
       "      <td>579</td>\n",
       "      <td>1568</td>\n",
       "      <td>1694</td>\n",
       "      <td>578</td>\n",
       "      <td>126</td>\n",
       "      <td>1442</td>\n",
       "      <td>0.9256</td>\n",
       "      <td>0.9121</td>\n",
       "    </tr>\n",
       "    <tr>\n",
       "      <th>3449</th>\n",
       "      <td>AOEAD7DPLZE53</td>\n",
       "      <td>B007WTAJTO</td>\n",
       "      <td>NLee the Engineer</td>\n",
       "      <td>[1428, 1505]</td>\n",
       "      <td>I have tested dozens of SDHC and micro-SDHC ca...</td>\n",
       "      <td>5.0000</td>\n",
       "      <td>Top of the class among all (budget-priced) mic...</td>\n",
       "      <td>1348617600</td>\n",
       "      <td>2012-09-26</td>\n",
       "      <td>803</td>\n",
       "      <td>1428</td>\n",
       "      <td>1505</td>\n",
       "      <td>802</td>\n",
       "      <td>77</td>\n",
       "      <td>1351</td>\n",
       "      <td>0.9488</td>\n",
       "      <td>0.9365</td>\n",
       "    </tr>\n",
       "    <tr>\n",
       "      <th>317</th>\n",
       "      <td>A1ZQAQFYSXL5MQ</td>\n",
       "      <td>B007WTAJTO</td>\n",
       "      <td>Amazon Customer \"Kelly\"</td>\n",
       "      <td>[422, 495]</td>\n",
       "      <td>If your card gets hot enough to be painful, it...</td>\n",
       "      <td>1.0000</td>\n",
       "      <td>Warning, read this!</td>\n",
       "      <td>1346544000</td>\n",
       "      <td>2012-02-09</td>\n",
       "      <td>1033</td>\n",
       "      <td>422</td>\n",
       "      <td>495</td>\n",
       "      <td>1032</td>\n",
       "      <td>73</td>\n",
       "      <td>349</td>\n",
       "      <td>0.8525</td>\n",
       "      <td>0.8186</td>\n",
       "    </tr>\n",
       "    <tr>\n",
       "      <th>3981</th>\n",
       "      <td>A1K91XXQ6ZEBQR</td>\n",
       "      <td>B007WTAJTO</td>\n",
       "      <td>R. Sutton, Jr. \"RWSynergy\"</td>\n",
       "      <td>[112, 139]</td>\n",
       "      <td>The last few days I have been diligently shopp...</td>\n",
       "      <td>5.0000</td>\n",
       "      <td>Resolving confusion between \"Mobile Ultra\" and...</td>\n",
       "      <td>1350864000</td>\n",
       "      <td>2012-10-22</td>\n",
       "      <td>777</td>\n",
       "      <td>112</td>\n",
       "      <td>139</td>\n",
       "      <td>776</td>\n",
       "      <td>27</td>\n",
       "      <td>85</td>\n",
       "      <td>0.8058</td>\n",
       "      <td>0.7321</td>\n",
       "    </tr>\n",
       "    <tr>\n",
       "      <th>4596</th>\n",
       "      <td>A1WTQUOQ4WG9AI</td>\n",
       "      <td>B007WTAJTO</td>\n",
       "      <td>Tom Henriksen \"Doggy Diner\"</td>\n",
       "      <td>[82, 109]</td>\n",
       "      <td>Hi:I ordered two card and they arrived the nex...</td>\n",
       "      <td>1.0000</td>\n",
       "      <td>Designed incompatibility/Don't support SanDisk</td>\n",
       "      <td>1348272000</td>\n",
       "      <td>2012-09-22</td>\n",
       "      <td>807</td>\n",
       "      <td>82</td>\n",
       "      <td>109</td>\n",
       "      <td>806</td>\n",
       "      <td>27</td>\n",
       "      <td>55</td>\n",
       "      <td>0.7523</td>\n",
       "      <td>0.6636</td>\n",
       "    </tr>\n",
       "    <tr>\n",
       "      <th>1835</th>\n",
       "      <td>A1J6VSUM80UAF8</td>\n",
       "      <td>B007WTAJTO</td>\n",
       "      <td>goconfigure</td>\n",
       "      <td>[60, 68]</td>\n",
       "      <td>Bought from BestBuy online the day it was anno...</td>\n",
       "      <td>5.0000</td>\n",
       "      <td>I own it</td>\n",
       "      <td>1393545600</td>\n",
       "      <td>2014-02-28</td>\n",
       "      <td>283</td>\n",
       "      <td>60</td>\n",
       "      <td>68</td>\n",
       "      <td>282</td>\n",
       "      <td>8</td>\n",
       "      <td>52</td>\n",
       "      <td>0.8824</td>\n",
       "      <td>0.7847</td>\n",
       "    </tr>\n",
       "    <tr>\n",
       "      <th>4672</th>\n",
       "      <td>A2DKQQIZ793AV5</td>\n",
       "      <td>B007WTAJTO</td>\n",
       "      <td>Twister</td>\n",
       "      <td>[45, 49]</td>\n",
       "      <td>Sandisk announcement of the first 128GB micro ...</td>\n",
       "      <td>5.0000</td>\n",
       "      <td>Super high capacity!!!  Excellent price (on Am...</td>\n",
       "      <td>1394150400</td>\n",
       "      <td>2014-07-03</td>\n",
       "      <td>158</td>\n",
       "      <td>45</td>\n",
       "      <td>49</td>\n",
       "      <td>157</td>\n",
       "      <td>4</td>\n",
       "      <td>41</td>\n",
       "      <td>0.9184</td>\n",
       "      <td>0.8081</td>\n",
       "    </tr>\n",
       "    <tr>\n",
       "      <th>4306</th>\n",
       "      <td>AOHXKM5URSKAB</td>\n",
       "      <td>B007WTAJTO</td>\n",
       "      <td>Stellar Eller</td>\n",
       "      <td>[51, 65]</td>\n",
       "      <td>While I got this card as a \"deal of the day\" o...</td>\n",
       "      <td>5.0000</td>\n",
       "      <td>Awesome Card!</td>\n",
       "      <td>1339200000</td>\n",
       "      <td>2012-09-06</td>\n",
       "      <td>823</td>\n",
       "      <td>51</td>\n",
       "      <td>65</td>\n",
       "      <td>822</td>\n",
       "      <td>14</td>\n",
       "      <td>37</td>\n",
       "      <td>0.7846</td>\n",
       "      <td>0.6703</td>\n",
       "    </tr>\n",
       "    <tr>\n",
       "      <th>315</th>\n",
       "      <td>A2J26NNQX6WKAU</td>\n",
       "      <td>B007WTAJTO</td>\n",
       "      <td>Amazon Customer \"johncrea\"</td>\n",
       "      <td>[38, 48]</td>\n",
       "      <td>Bought this card to use with my Samsung Galaxy...</td>\n",
       "      <td>5.0000</td>\n",
       "      <td>Samsung Galaxy Tab2 works with this card if re...</td>\n",
       "      <td>1344816000</td>\n",
       "      <td>2012-08-13</td>\n",
       "      <td>847</td>\n",
       "      <td>38</td>\n",
       "      <td>48</td>\n",
       "      <td>846</td>\n",
       "      <td>10</td>\n",
       "      <td>28</td>\n",
       "      <td>0.7917</td>\n",
       "      <td>0.6574</td>\n",
       "    </tr>\n",
       "  </tbody>\n",
       "</table>\n",
       "</div>"
      ],
      "text/plain": [
       "          reviewerID        asin                 reviewerName       helpful  \\\n",
       "2031  A12B7ZMXFI6IXY  B007WTAJTO         Hyoun Kim \"Faluzure\"  [1952, 2020]   \n",
       "4212   AVBMZZAFEKO58  B007WTAJTO                  SkincareCEO  [1568, 1694]   \n",
       "3449   AOEAD7DPLZE53  B007WTAJTO            NLee the Engineer  [1428, 1505]   \n",
       "317   A1ZQAQFYSXL5MQ  B007WTAJTO      Amazon Customer \"Kelly\"    [422, 495]   \n",
       "3981  A1K91XXQ6ZEBQR  B007WTAJTO   R. Sutton, Jr. \"RWSynergy\"    [112, 139]   \n",
       "4596  A1WTQUOQ4WG9AI  B007WTAJTO  Tom Henriksen \"Doggy Diner\"     [82, 109]   \n",
       "1835  A1J6VSUM80UAF8  B007WTAJTO                  goconfigure      [60, 68]   \n",
       "4672  A2DKQQIZ793AV5  B007WTAJTO                      Twister      [45, 49]   \n",
       "4306   AOHXKM5URSKAB  B007WTAJTO                Stellar Eller      [51, 65]   \n",
       "315   A2J26NNQX6WKAU  B007WTAJTO   Amazon Customer \"johncrea\"      [38, 48]   \n",
       "\n",
       "                                             reviewText  overall  \\\n",
       "2031  [[ UPDATE - 6/19/2014 ]]So my lovely wife boug...   5.0000   \n",
       "4212  NOTE:  please read the last update (scroll to ...   1.0000   \n",
       "3449  I have tested dozens of SDHC and micro-SDHC ca...   5.0000   \n",
       "317   If your card gets hot enough to be painful, it...   1.0000   \n",
       "3981  The last few days I have been diligently shopp...   5.0000   \n",
       "4596  Hi:I ordered two card and they arrived the nex...   1.0000   \n",
       "1835  Bought from BestBuy online the day it was anno...   5.0000   \n",
       "4672  Sandisk announcement of the first 128GB micro ...   5.0000   \n",
       "4306  While I got this card as a \"deal of the day\" o...   5.0000   \n",
       "315   Bought this card to use with my Samsung Galaxy...   5.0000   \n",
       "\n",
       "                                                summary  unixReviewTime  \\\n",
       "2031  UPDATED - Great w/ Galaxy S4 & Galaxy Tab 4 10...      1367366400   \n",
       "4212  1 Star reviews - Micro SDXC card unmounts itse...      1375660800   \n",
       "3449  Top of the class among all (budget-priced) mic...      1348617600   \n",
       "317                                 Warning, read this!      1346544000   \n",
       "3981  Resolving confusion between \"Mobile Ultra\" and...      1350864000   \n",
       "4596     Designed incompatibility/Don't support SanDisk      1348272000   \n",
       "1835                                           I own it      1393545600   \n",
       "4672  Super high capacity!!!  Excellent price (on Am...      1394150400   \n",
       "4306                                      Awesome Card!      1339200000   \n",
       "315   Samsung Galaxy Tab2 works with this card if re...      1344816000   \n",
       "\n",
       "     reviewTime  day_diff  helpful_yes  total_vote  days  helpful_no  \\\n",
       "2031 2013-01-05       702         1952        2020   701          68   \n",
       "4212 2013-05-08       579         1568        1694   578         126   \n",
       "3449 2012-09-26       803         1428        1505   802          77   \n",
       "317  2012-02-09      1033          422         495  1032          73   \n",
       "3981 2012-10-22       777          112         139   776          27   \n",
       "4596 2012-09-22       807           82         109   806          27   \n",
       "1835 2014-02-28       283           60          68   282           8   \n",
       "4672 2014-07-03       158           45          49   157           4   \n",
       "4306 2012-09-06       823           51          65   822          14   \n",
       "315  2012-08-13       847           38          48   846          10   \n",
       "\n",
       "      score_pos_neg_diff  score_average_rating  wilson_lower_bound  \n",
       "2031                1884                0.9663              0.9575  \n",
       "4212                1442                0.9256              0.9121  \n",
       "3449                1351                0.9488              0.9365  \n",
       "317                  349                0.8525              0.8186  \n",
       "3981                  85                0.8058              0.7321  \n",
       "4596                  55                0.7523              0.6636  \n",
       "1835                  52                0.8824              0.7847  \n",
       "4672                  41                0.9184              0.8081  \n",
       "4306                  37                0.7846              0.6703  \n",
       "315                   28                0.7917              0.6574  "
      ]
     },
     "execution_count": 244,
     "metadata": {},
     "output_type": "execute_result"
    }
   ],
   "source": [
    "df.sort_values('score_pos_neg_diff', ascending=False).head(10)"
   ]
  },
  {
   "cell_type": "markdown",
   "id": "2facc2d8",
   "metadata": {},
   "source": [
    "**Sort dataframe by wilson_lower_bound**"
   ]
  },
  {
   "cell_type": "code",
   "execution_count": 246,
   "id": "9200a59e",
   "metadata": {},
   "outputs": [
    {
     "data": {
      "text/html": [
       "<div>\n",
       "<style scoped>\n",
       "    .dataframe tbody tr th:only-of-type {\n",
       "        vertical-align: middle;\n",
       "    }\n",
       "\n",
       "    .dataframe tbody tr th {\n",
       "        vertical-align: top;\n",
       "    }\n",
       "\n",
       "    .dataframe thead th {\n",
       "        text-align: right;\n",
       "    }\n",
       "</style>\n",
       "<table border=\"1\" class=\"dataframe\">\n",
       "  <thead>\n",
       "    <tr style=\"text-align: right;\">\n",
       "      <th></th>\n",
       "      <th>reviewerID</th>\n",
       "      <th>asin</th>\n",
       "      <th>reviewerName</th>\n",
       "      <th>helpful</th>\n",
       "      <th>reviewText</th>\n",
       "      <th>overall</th>\n",
       "      <th>summary</th>\n",
       "      <th>unixReviewTime</th>\n",
       "      <th>reviewTime</th>\n",
       "      <th>day_diff</th>\n",
       "      <th>helpful_yes</th>\n",
       "      <th>total_vote</th>\n",
       "      <th>days</th>\n",
       "      <th>helpful_no</th>\n",
       "      <th>score_pos_neg_diff</th>\n",
       "      <th>score_average_rating</th>\n",
       "      <th>wilson_lower_bound</th>\n",
       "    </tr>\n",
       "  </thead>\n",
       "  <tbody>\n",
       "    <tr>\n",
       "      <th>2031</th>\n",
       "      <td>A12B7ZMXFI6IXY</td>\n",
       "      <td>B007WTAJTO</td>\n",
       "      <td>Hyoun Kim \"Faluzure\"</td>\n",
       "      <td>[1952, 2020]</td>\n",
       "      <td>[[ UPDATE - 6/19/2014 ]]So my lovely wife boug...</td>\n",
       "      <td>5.0000</td>\n",
       "      <td>UPDATED - Great w/ Galaxy S4 &amp; Galaxy Tab 4 10...</td>\n",
       "      <td>1367366400</td>\n",
       "      <td>2013-01-05</td>\n",
       "      <td>702</td>\n",
       "      <td>1952</td>\n",
       "      <td>2020</td>\n",
       "      <td>701</td>\n",
       "      <td>68</td>\n",
       "      <td>1884</td>\n",
       "      <td>0.9663</td>\n",
       "      <td>0.9575</td>\n",
       "    </tr>\n",
       "    <tr>\n",
       "      <th>3449</th>\n",
       "      <td>AOEAD7DPLZE53</td>\n",
       "      <td>B007WTAJTO</td>\n",
       "      <td>NLee the Engineer</td>\n",
       "      <td>[1428, 1505]</td>\n",
       "      <td>I have tested dozens of SDHC and micro-SDHC ca...</td>\n",
       "      <td>5.0000</td>\n",
       "      <td>Top of the class among all (budget-priced) mic...</td>\n",
       "      <td>1348617600</td>\n",
       "      <td>2012-09-26</td>\n",
       "      <td>803</td>\n",
       "      <td>1428</td>\n",
       "      <td>1505</td>\n",
       "      <td>802</td>\n",
       "      <td>77</td>\n",
       "      <td>1351</td>\n",
       "      <td>0.9488</td>\n",
       "      <td>0.9365</td>\n",
       "    </tr>\n",
       "    <tr>\n",
       "      <th>4212</th>\n",
       "      <td>AVBMZZAFEKO58</td>\n",
       "      <td>B007WTAJTO</td>\n",
       "      <td>SkincareCEO</td>\n",
       "      <td>[1568, 1694]</td>\n",
       "      <td>NOTE:  please read the last update (scroll to ...</td>\n",
       "      <td>1.0000</td>\n",
       "      <td>1 Star reviews - Micro SDXC card unmounts itse...</td>\n",
       "      <td>1375660800</td>\n",
       "      <td>2013-05-08</td>\n",
       "      <td>579</td>\n",
       "      <td>1568</td>\n",
       "      <td>1694</td>\n",
       "      <td>578</td>\n",
       "      <td>126</td>\n",
       "      <td>1442</td>\n",
       "      <td>0.9256</td>\n",
       "      <td>0.9121</td>\n",
       "    </tr>\n",
       "    <tr>\n",
       "      <th>317</th>\n",
       "      <td>A1ZQAQFYSXL5MQ</td>\n",
       "      <td>B007WTAJTO</td>\n",
       "      <td>Amazon Customer \"Kelly\"</td>\n",
       "      <td>[422, 495]</td>\n",
       "      <td>If your card gets hot enough to be painful, it...</td>\n",
       "      <td>1.0000</td>\n",
       "      <td>Warning, read this!</td>\n",
       "      <td>1346544000</td>\n",
       "      <td>2012-02-09</td>\n",
       "      <td>1033</td>\n",
       "      <td>422</td>\n",
       "      <td>495</td>\n",
       "      <td>1032</td>\n",
       "      <td>73</td>\n",
       "      <td>349</td>\n",
       "      <td>0.8525</td>\n",
       "      <td>0.8186</td>\n",
       "    </tr>\n",
       "    <tr>\n",
       "      <th>4672</th>\n",
       "      <td>A2DKQQIZ793AV5</td>\n",
       "      <td>B007WTAJTO</td>\n",
       "      <td>Twister</td>\n",
       "      <td>[45, 49]</td>\n",
       "      <td>Sandisk announcement of the first 128GB micro ...</td>\n",
       "      <td>5.0000</td>\n",
       "      <td>Super high capacity!!!  Excellent price (on Am...</td>\n",
       "      <td>1394150400</td>\n",
       "      <td>2014-07-03</td>\n",
       "      <td>158</td>\n",
       "      <td>45</td>\n",
       "      <td>49</td>\n",
       "      <td>157</td>\n",
       "      <td>4</td>\n",
       "      <td>41</td>\n",
       "      <td>0.9184</td>\n",
       "      <td>0.8081</td>\n",
       "    </tr>\n",
       "    <tr>\n",
       "      <th>1835</th>\n",
       "      <td>A1J6VSUM80UAF8</td>\n",
       "      <td>B007WTAJTO</td>\n",
       "      <td>goconfigure</td>\n",
       "      <td>[60, 68]</td>\n",
       "      <td>Bought from BestBuy online the day it was anno...</td>\n",
       "      <td>5.0000</td>\n",
       "      <td>I own it</td>\n",
       "      <td>1393545600</td>\n",
       "      <td>2014-02-28</td>\n",
       "      <td>283</td>\n",
       "      <td>60</td>\n",
       "      <td>68</td>\n",
       "      <td>282</td>\n",
       "      <td>8</td>\n",
       "      <td>52</td>\n",
       "      <td>0.8824</td>\n",
       "      <td>0.7847</td>\n",
       "    </tr>\n",
       "    <tr>\n",
       "      <th>3981</th>\n",
       "      <td>A1K91XXQ6ZEBQR</td>\n",
       "      <td>B007WTAJTO</td>\n",
       "      <td>R. Sutton, Jr. \"RWSynergy\"</td>\n",
       "      <td>[112, 139]</td>\n",
       "      <td>The last few days I have been diligently shopp...</td>\n",
       "      <td>5.0000</td>\n",
       "      <td>Resolving confusion between \"Mobile Ultra\" and...</td>\n",
       "      <td>1350864000</td>\n",
       "      <td>2012-10-22</td>\n",
       "      <td>777</td>\n",
       "      <td>112</td>\n",
       "      <td>139</td>\n",
       "      <td>776</td>\n",
       "      <td>27</td>\n",
       "      <td>85</td>\n",
       "      <td>0.8058</td>\n",
       "      <td>0.7321</td>\n",
       "    </tr>\n",
       "    <tr>\n",
       "      <th>3807</th>\n",
       "      <td>AFGRMORWY2QNX</td>\n",
       "      <td>B007WTAJTO</td>\n",
       "      <td>R. Heisler</td>\n",
       "      <td>[22, 25]</td>\n",
       "      <td>I bought this card to replace a lost 16 gig in...</td>\n",
       "      <td>3.0000</td>\n",
       "      <td>Good buy for the money but wait, I had an issue!</td>\n",
       "      <td>1361923200</td>\n",
       "      <td>2013-02-27</td>\n",
       "      <td>649</td>\n",
       "      <td>22</td>\n",
       "      <td>25</td>\n",
       "      <td>648</td>\n",
       "      <td>3</td>\n",
       "      <td>19</td>\n",
       "      <td>0.8800</td>\n",
       "      <td>0.7004</td>\n",
       "    </tr>\n",
       "    <tr>\n",
       "      <th>4306</th>\n",
       "      <td>AOHXKM5URSKAB</td>\n",
       "      <td>B007WTAJTO</td>\n",
       "      <td>Stellar Eller</td>\n",
       "      <td>[51, 65]</td>\n",
       "      <td>While I got this card as a \"deal of the day\" o...</td>\n",
       "      <td>5.0000</td>\n",
       "      <td>Awesome Card!</td>\n",
       "      <td>1339200000</td>\n",
       "      <td>2012-09-06</td>\n",
       "      <td>823</td>\n",
       "      <td>51</td>\n",
       "      <td>65</td>\n",
       "      <td>822</td>\n",
       "      <td>14</td>\n",
       "      <td>37</td>\n",
       "      <td>0.7846</td>\n",
       "      <td>0.6703</td>\n",
       "    </tr>\n",
       "    <tr>\n",
       "      <th>4596</th>\n",
       "      <td>A1WTQUOQ4WG9AI</td>\n",
       "      <td>B007WTAJTO</td>\n",
       "      <td>Tom Henriksen \"Doggy Diner\"</td>\n",
       "      <td>[82, 109]</td>\n",
       "      <td>Hi:I ordered two card and they arrived the nex...</td>\n",
       "      <td>1.0000</td>\n",
       "      <td>Designed incompatibility/Don't support SanDisk</td>\n",
       "      <td>1348272000</td>\n",
       "      <td>2012-09-22</td>\n",
       "      <td>807</td>\n",
       "      <td>82</td>\n",
       "      <td>109</td>\n",
       "      <td>806</td>\n",
       "      <td>27</td>\n",
       "      <td>55</td>\n",
       "      <td>0.7523</td>\n",
       "      <td>0.6636</td>\n",
       "    </tr>\n",
       "  </tbody>\n",
       "</table>\n",
       "</div>"
      ],
      "text/plain": [
       "          reviewerID        asin                 reviewerName       helpful  \\\n",
       "2031  A12B7ZMXFI6IXY  B007WTAJTO         Hyoun Kim \"Faluzure\"  [1952, 2020]   \n",
       "3449   AOEAD7DPLZE53  B007WTAJTO            NLee the Engineer  [1428, 1505]   \n",
       "4212   AVBMZZAFEKO58  B007WTAJTO                  SkincareCEO  [1568, 1694]   \n",
       "317   A1ZQAQFYSXL5MQ  B007WTAJTO      Amazon Customer \"Kelly\"    [422, 495]   \n",
       "4672  A2DKQQIZ793AV5  B007WTAJTO                      Twister      [45, 49]   \n",
       "1835  A1J6VSUM80UAF8  B007WTAJTO                  goconfigure      [60, 68]   \n",
       "3981  A1K91XXQ6ZEBQR  B007WTAJTO   R. Sutton, Jr. \"RWSynergy\"    [112, 139]   \n",
       "3807   AFGRMORWY2QNX  B007WTAJTO                   R. Heisler      [22, 25]   \n",
       "4306   AOHXKM5URSKAB  B007WTAJTO                Stellar Eller      [51, 65]   \n",
       "4596  A1WTQUOQ4WG9AI  B007WTAJTO  Tom Henriksen \"Doggy Diner\"     [82, 109]   \n",
       "\n",
       "                                             reviewText  overall  \\\n",
       "2031  [[ UPDATE - 6/19/2014 ]]So my lovely wife boug...   5.0000   \n",
       "3449  I have tested dozens of SDHC and micro-SDHC ca...   5.0000   \n",
       "4212  NOTE:  please read the last update (scroll to ...   1.0000   \n",
       "317   If your card gets hot enough to be painful, it...   1.0000   \n",
       "4672  Sandisk announcement of the first 128GB micro ...   5.0000   \n",
       "1835  Bought from BestBuy online the day it was anno...   5.0000   \n",
       "3981  The last few days I have been diligently shopp...   5.0000   \n",
       "3807  I bought this card to replace a lost 16 gig in...   3.0000   \n",
       "4306  While I got this card as a \"deal of the day\" o...   5.0000   \n",
       "4596  Hi:I ordered two card and they arrived the nex...   1.0000   \n",
       "\n",
       "                                                summary  unixReviewTime  \\\n",
       "2031  UPDATED - Great w/ Galaxy S4 & Galaxy Tab 4 10...      1367366400   \n",
       "3449  Top of the class among all (budget-priced) mic...      1348617600   \n",
       "4212  1 Star reviews - Micro SDXC card unmounts itse...      1375660800   \n",
       "317                                 Warning, read this!      1346544000   \n",
       "4672  Super high capacity!!!  Excellent price (on Am...      1394150400   \n",
       "1835                                           I own it      1393545600   \n",
       "3981  Resolving confusion between \"Mobile Ultra\" and...      1350864000   \n",
       "3807   Good buy for the money but wait, I had an issue!      1361923200   \n",
       "4306                                      Awesome Card!      1339200000   \n",
       "4596     Designed incompatibility/Don't support SanDisk      1348272000   \n",
       "\n",
       "     reviewTime  day_diff  helpful_yes  total_vote  days  helpful_no  \\\n",
       "2031 2013-01-05       702         1952        2020   701          68   \n",
       "3449 2012-09-26       803         1428        1505   802          77   \n",
       "4212 2013-05-08       579         1568        1694   578         126   \n",
       "317  2012-02-09      1033          422         495  1032          73   \n",
       "4672 2014-07-03       158           45          49   157           4   \n",
       "1835 2014-02-28       283           60          68   282           8   \n",
       "3981 2012-10-22       777          112         139   776          27   \n",
       "3807 2013-02-27       649           22          25   648           3   \n",
       "4306 2012-09-06       823           51          65   822          14   \n",
       "4596 2012-09-22       807           82         109   806          27   \n",
       "\n",
       "      score_pos_neg_diff  score_average_rating  wilson_lower_bound  \n",
       "2031                1884                0.9663              0.9575  \n",
       "3449                1351                0.9488              0.9365  \n",
       "4212                1442                0.9256              0.9121  \n",
       "317                  349                0.8525              0.8186  \n",
       "4672                  41                0.9184              0.8081  \n",
       "1835                  52                0.8824              0.7847  \n",
       "3981                  85                0.8058              0.7321  \n",
       "3807                  19                0.8800              0.7004  \n",
       "4306                  37                0.7846              0.6703  \n",
       "4596                  55                0.7523              0.6636  "
      ]
     },
     "execution_count": 246,
     "metadata": {},
     "output_type": "execute_result"
    }
   ],
   "source": [
    "df.sort_values('wilson_lower_bound', ascending=False).head(10)"
   ]
  }
 ],
 "metadata": {
  "kernelspec": {
   "display_name": "Python 3 (ipykernel)",
   "language": "python",
   "name": "python3"
  },
  "language_info": {
   "codemirror_mode": {
    "name": "ipython",
    "version": 3
   },
   "file_extension": ".py",
   "mimetype": "text/x-python",
   "name": "python",
   "nbconvert_exporter": "python",
   "pygments_lexer": "ipython3",
   "version": "3.9.7"
  }
 },
 "nbformat": 4,
 "nbformat_minor": 5
}
